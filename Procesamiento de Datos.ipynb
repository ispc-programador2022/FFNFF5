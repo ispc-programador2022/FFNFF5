{
 "cells": [
  {
   "cell_type": "markdown",
   "id": "55c7bd93",
   "metadata": {},
   "source": [
    "![Portada](https://github.com/ispc-programador2022/FFNFF5/blob/main/recursos/MDSQL.png?raw=true \"Proyecto Tecnologico Integrador ISPC 2022\")\n",
    "## Importamos Librerias"
   ]
  },
  {
   "cell_type": "code",
   "execution_count": 1,
   "id": "b1e430cc",
   "metadata": {},
   "outputs": [],
   "source": [
    "import pandas as pd\n",
    "import numpy as np\n",
    "import matplotlib.pyplot as plt"
   ]
  },
  {
   "cell_type": "markdown",
   "id": "455ccb3f",
   "metadata": {},
   "source": [
    "## Leemos archivos generales"
   ]
  },
  {
   "cell_type": "code",
   "execution_count": 2,
   "id": "09a42060",
   "metadata": {},
   "outputs": [],
   "source": [
    "conv1= pd.read_excel(\"2021_racesCarreras.xlsx\", index_col=0)\n",
    "conv2= pd.read_excel(\"2021_drivers1Pilotos.xlsx\", index_col=0)\n",
    "conv3= pd.read_excel(\"2021_team1Equipos.xlsx\", index_col=0)\n",
    "conv4= pd.read_excel(\"2021_fastest-laps1Vueltas.xlsx\", index_col=0)"
   ]
  },
  {
   "cell_type": "markdown",
   "id": "a1c529e4",
   "metadata": {},
   "source": [
    "## Limpieza y preparación de Datos\n",
    "Comenzamos convirtiendo a csv y luego crearemos como `DataFrame` para su procesamiento posterior, previo a cargarlos en SQL. En esta para realziamos el proceso de limpiar y preparar los datos con Pandas para cada uno de los Dataset en cuestión."
   ]
  },
  {
   "cell_type": "code",
   "execution_count": 3,
   "id": "2d36affb",
   "metadata": {},
   "outputs": [],
   "source": [
    "# Convertimos a csv\n",
    "conv1.to_csv(\"salida/2021_racesCarreras.csv\", index=None, header=True)\n",
    "conv2.to_csv(\"salida/2021_drivers1Pilotos.csv\", index=None, header=True)\n",
    "conv3.to_csv(\"salida/2021_team1Equipos.csv\", index=None, header=True)\n",
    "conv4.to_csv(\"salida/2021_fastest-laps1Vueltas.csv\", index=None, header=True)\n",
    "\n",
    "# Creamos DataFrames leyendo directo desde los csv generados\n",
    "carreras= pd.DataFrame(pd.read_csv(\"salida/2021_racesCarreras.csv\"))\n",
    "pilotos= pd.DataFrame(pd.read_csv(\"salida/2021_drivers1Pilotos.csv\"))\n",
    "escuderia= pd.DataFrame(pd.read_csv(\"salida/2021_team1Equipos.csv\"))\n",
    "vuelta= pd.DataFrame(pd.read_csv(\"salida/2021_fastest-laps1Vueltas.csv\"))"
   ]
  },
  {
   "cell_type": "code",
   "execution_count": null,
   "id": "dc662893",
   "metadata": {},
   "outputs": [],
   "source": []
  },
  {
   "cell_type": "code",
   "execution_count": 4,
   "id": "f871f60a",
   "metadata": {},
   "outputs": [
    {
     "name": "stdout",
     "output_type": "stream",
     "text": [
      "<class 'pandas.core.frame.DataFrame'>\n",
      "RangeIndex: 22 entries, 0 to 21\n",
      "Data columns (total 6 columns):\n",
      " #   Column      Non-Null Count  Dtype \n",
      "---  ------      --------------  ----- \n",
      " 0   Grand Prix  22 non-null     object\n",
      " 1   Date        22 non-null     object\n",
      " 2   Winner      22 non-null     object\n",
      " 3   Car         22 non-null     object\n",
      " 4   Laps        22 non-null     int64 \n",
      " 5   Time        22 non-null     object\n",
      "dtypes: int64(1), object(5)\n",
      "memory usage: 1.2+ KB\n"
     ]
    }
   ],
   "source": [
    "# Revisamos los datos para comproabr si existen datos nulos.\n",
    "carreras.info()"
   ]
  },
  {
   "cell_type": "code",
   "execution_count": 5,
   "id": "9d8f378c",
   "metadata": {},
   "outputs": [
    {
     "data": {
      "text/plain": [
       "Grand Prix    object\n",
       "Date          object\n",
       "Winner        object\n",
       "Car           object\n",
       "Laps           int64\n",
       "Time          object\n",
       "dtype: object"
      ]
     },
     "execution_count": 5,
     "metadata": {},
     "output_type": "execute_result"
    }
   ],
   "source": [
    "carreras.dtypes"
   ]
  },
  {
   "cell_type": "code",
   "execution_count": 6,
   "id": "1317a8e8",
   "metadata": {},
   "outputs": [
    {
     "data": {
      "text/plain": [
       "Index(['Grand Prix', 'Date', 'Winner', 'Car', 'Laps', 'Time'], dtype='object')"
      ]
     },
     "execution_count": 6,
     "metadata": {},
     "output_type": "execute_result"
    }
   ],
   "source": [
    "# Comprobamos el nombre de columnas\n",
    "carreras.columns"
   ]
  },
  {
   "cell_type": "code",
   "execution_count": 7,
   "id": "629677a9",
   "metadata": {},
   "outputs": [
    {
     "data": {
      "text/html": [
       "<div>\n",
       "<style scoped>\n",
       "    .dataframe tbody tr th:only-of-type {\n",
       "        vertical-align: middle;\n",
       "    }\n",
       "\n",
       "    .dataframe tbody tr th {\n",
       "        vertical-align: top;\n",
       "    }\n",
       "\n",
       "    .dataframe thead th {\n",
       "        text-align: right;\n",
       "    }\n",
       "</style>\n",
       "<table border=\"1\" class=\"dataframe\">\n",
       "  <thead>\n",
       "    <tr style=\"text-align: right;\">\n",
       "      <th></th>\n",
       "      <th>Grand Prix</th>\n",
       "      <th>Date</th>\n",
       "      <th>Winner</th>\n",
       "      <th>Car</th>\n",
       "      <th>Laps</th>\n",
       "      <th>Time</th>\n",
       "    </tr>\n",
       "  </thead>\n",
       "  <tbody>\n",
       "    <tr>\n",
       "      <th>0</th>\n",
       "      <td>Bahrain</td>\n",
       "      <td>28 Mar 2021</td>\n",
       "      <td>Lewis Hamilton HAM</td>\n",
       "      <td>Mercedes</td>\n",
       "      <td>56</td>\n",
       "      <td>1:32:03.897</td>\n",
       "    </tr>\n",
       "    <tr>\n",
       "      <th>1</th>\n",
       "      <td>Emilia Romagna</td>\n",
       "      <td>18 Apr 2021</td>\n",
       "      <td>Max Verstappen VER</td>\n",
       "      <td>Red Bull Racing Honda</td>\n",
       "      <td>63</td>\n",
       "      <td>2:02:34.598</td>\n",
       "    </tr>\n",
       "    <tr>\n",
       "      <th>2</th>\n",
       "      <td>Portugal</td>\n",
       "      <td>02 May 2021</td>\n",
       "      <td>Lewis Hamilton HAM</td>\n",
       "      <td>Mercedes</td>\n",
       "      <td>66</td>\n",
       "      <td>1:34:31.421</td>\n",
       "    </tr>\n",
       "    <tr>\n",
       "      <th>3</th>\n",
       "      <td>Spain</td>\n",
       "      <td>09 May 2021</td>\n",
       "      <td>Lewis Hamilton HAM</td>\n",
       "      <td>Mercedes</td>\n",
       "      <td>66</td>\n",
       "      <td>1:33:07.680</td>\n",
       "    </tr>\n",
       "    <tr>\n",
       "      <th>4</th>\n",
       "      <td>Monaco</td>\n",
       "      <td>23 May 2021</td>\n",
       "      <td>Max Verstappen VER</td>\n",
       "      <td>Red Bull Racing Honda</td>\n",
       "      <td>78</td>\n",
       "      <td>1:38:56.820</td>\n",
       "    </tr>\n",
       "  </tbody>\n",
       "</table>\n",
       "</div>"
      ],
      "text/plain": [
       "       Grand Prix         Date              Winner                    Car  \\\n",
       "0         Bahrain  28 Mar 2021  Lewis Hamilton HAM               Mercedes   \n",
       "1  Emilia Romagna  18 Apr 2021  Max Verstappen VER  Red Bull Racing Honda   \n",
       "2        Portugal  02 May 2021  Lewis Hamilton HAM               Mercedes   \n",
       "3           Spain  09 May 2021  Lewis Hamilton HAM               Mercedes   \n",
       "4          Monaco  23 May 2021  Max Verstappen VER  Red Bull Racing Honda   \n",
       "\n",
       "   Laps         Time  \n",
       "0    56  1:32:03.897  \n",
       "1    63  2:02:34.598  \n",
       "2    66  1:34:31.421  \n",
       "3    66  1:33:07.680  \n",
       "4    78  1:38:56.820  "
      ]
     },
     "execution_count": 7,
     "metadata": {},
     "output_type": "execute_result"
    }
   ],
   "source": [
    "# Mostramos los primeros 5 registros por defecto\n",
    "carreras.head()"
   ]
  },
  {
   "cell_type": "markdown",
   "id": "c081450d",
   "metadata": {},
   "source": [
    "Como estos archivos **no poseen datos nulos**, procederemos a modificar el nombre de las columnas y convertir la columna `Date` a un dato tipo fecha con el formato correspondiente."
   ]
  },
  {
   "cell_type": "code",
   "execution_count": 8,
   "id": "4d159b9c",
   "metadata": {},
   "outputs": [
    {
     "data": {
      "text/plain": [
       "Index(['Carrera', 'Fecha', 'Ganador', 'Auto', 'Vueltas', 'Tiempo'], dtype='object')"
      ]
     },
     "execution_count": 8,
     "metadata": {},
     "output_type": "execute_result"
    }
   ],
   "source": [
    "# Cambiamos nombre de columnas\n",
    "carreras.set_axis([\"Carrera\", \"Fecha\", \"Ganador\", \"Auto\", \"Vueltas\", \"Tiempo\"], axis=1, inplace=True)\n",
    "carreras.columns"
   ]
  },
  {
   "cell_type": "code",
   "execution_count": 9,
   "id": "2846b3e2",
   "metadata": {},
   "outputs": [
    {
     "data": {
      "text/plain": [
       "Carrera            object\n",
       "Fecha      datetime64[ns]\n",
       "Ganador            object\n",
       "Auto               object\n",
       "Vueltas             int64\n",
       "Tiempo             object\n",
       "dtype: object"
      ]
     },
     "execution_count": 9,
     "metadata": {},
     "output_type": "execute_result"
    }
   ],
   "source": [
    "# Convertimos la columna fecha al tipo de dato correpsondiente\n",
    "carreras[\"Fecha\"]= pd.to_datetime(carreras[\"Fecha\"])\n",
    "carreras.dtypes"
   ]
  },
  {
   "cell_type": "code",
   "execution_count": 10,
   "id": "44f201e6",
   "metadata": {},
   "outputs": [
    {
     "data": {
      "text/html": [
       "<div>\n",
       "<style scoped>\n",
       "    .dataframe tbody tr th:only-of-type {\n",
       "        vertical-align: middle;\n",
       "    }\n",
       "\n",
       "    .dataframe tbody tr th {\n",
       "        vertical-align: top;\n",
       "    }\n",
       "\n",
       "    .dataframe thead th {\n",
       "        text-align: right;\n",
       "    }\n",
       "</style>\n",
       "<table border=\"1\" class=\"dataframe\">\n",
       "  <thead>\n",
       "    <tr style=\"text-align: right;\">\n",
       "      <th></th>\n",
       "      <th>Carrera</th>\n",
       "      <th>Fecha</th>\n",
       "      <th>Ganador</th>\n",
       "      <th>Auto</th>\n",
       "      <th>Vueltas</th>\n",
       "      <th>Tiempo</th>\n",
       "    </tr>\n",
       "  </thead>\n",
       "  <tbody>\n",
       "    <tr>\n",
       "      <th>0</th>\n",
       "      <td>Bahrain</td>\n",
       "      <td>2021-03-28</td>\n",
       "      <td>Lewis Hamilton HAM</td>\n",
       "      <td>Mercedes</td>\n",
       "      <td>56</td>\n",
       "      <td>1:32:03.897</td>\n",
       "    </tr>\n",
       "    <tr>\n",
       "      <th>1</th>\n",
       "      <td>Emilia Romagna</td>\n",
       "      <td>2021-04-18</td>\n",
       "      <td>Max Verstappen VER</td>\n",
       "      <td>Red Bull Racing Honda</td>\n",
       "      <td>63</td>\n",
       "      <td>2:02:34.598</td>\n",
       "    </tr>\n",
       "    <tr>\n",
       "      <th>2</th>\n",
       "      <td>Portugal</td>\n",
       "      <td>2021-05-02</td>\n",
       "      <td>Lewis Hamilton HAM</td>\n",
       "      <td>Mercedes</td>\n",
       "      <td>66</td>\n",
       "      <td>1:34:31.421</td>\n",
       "    </tr>\n",
       "    <tr>\n",
       "      <th>3</th>\n",
       "      <td>Spain</td>\n",
       "      <td>2021-05-09</td>\n",
       "      <td>Lewis Hamilton HAM</td>\n",
       "      <td>Mercedes</td>\n",
       "      <td>66</td>\n",
       "      <td>1:33:07.680</td>\n",
       "    </tr>\n",
       "    <tr>\n",
       "      <th>4</th>\n",
       "      <td>Monaco</td>\n",
       "      <td>2021-05-23</td>\n",
       "      <td>Max Verstappen VER</td>\n",
       "      <td>Red Bull Racing Honda</td>\n",
       "      <td>78</td>\n",
       "      <td>1:38:56.820</td>\n",
       "    </tr>\n",
       "  </tbody>\n",
       "</table>\n",
       "</div>"
      ],
      "text/plain": [
       "          Carrera      Fecha             Ganador                   Auto  \\\n",
       "0         Bahrain 2021-03-28  Lewis Hamilton HAM               Mercedes   \n",
       "1  Emilia Romagna 2021-04-18  Max Verstappen VER  Red Bull Racing Honda   \n",
       "2        Portugal 2021-05-02  Lewis Hamilton HAM               Mercedes   \n",
       "3           Spain 2021-05-09  Lewis Hamilton HAM               Mercedes   \n",
       "4          Monaco 2021-05-23  Max Verstappen VER  Red Bull Racing Honda   \n",
       "\n",
       "   Vueltas       Tiempo  \n",
       "0       56  1:32:03.897  \n",
       "1       63  2:02:34.598  \n",
       "2       66  1:34:31.421  \n",
       "3       66  1:33:07.680  \n",
       "4       78  1:38:56.820  "
      ]
     },
     "execution_count": 10,
     "metadata": {},
     "output_type": "execute_result"
    }
   ],
   "source": [
    "carreras.head()"
   ]
  },
  {
   "cell_type": "code",
   "execution_count": 11,
   "id": "e72c39b5",
   "metadata": {},
   "outputs": [
    {
     "data": {
      "text/html": [
       "<div>\n",
       "<style scoped>\n",
       "    .dataframe tbody tr th:only-of-type {\n",
       "        vertical-align: middle;\n",
       "    }\n",
       "\n",
       "    .dataframe tbody tr th {\n",
       "        vertical-align: top;\n",
       "    }\n",
       "\n",
       "    .dataframe thead th {\n",
       "        text-align: right;\n",
       "    }\n",
       "</style>\n",
       "<table border=\"1\" class=\"dataframe\">\n",
       "  <thead>\n",
       "    <tr style=\"text-align: right;\">\n",
       "      <th></th>\n",
       "      <th>Vueltas</th>\n",
       "    </tr>\n",
       "  </thead>\n",
       "  <tbody>\n",
       "    <tr>\n",
       "      <th>count</th>\n",
       "      <td>22.000000</td>\n",
       "    </tr>\n",
       "    <tr>\n",
       "      <th>mean</th>\n",
       "      <td>58.954545</td>\n",
       "    </tr>\n",
       "    <tr>\n",
       "      <th>std</th>\n",
       "      <td>15.478025</td>\n",
       "    </tr>\n",
       "    <tr>\n",
       "      <th>min</th>\n",
       "      <td>1.000000</td>\n",
       "    </tr>\n",
       "    <tr>\n",
       "      <th>25%</th>\n",
       "      <td>53.000000</td>\n",
       "    </tr>\n",
       "    <tr>\n",
       "      <th>50%</th>\n",
       "      <td>58.000000</td>\n",
       "    </tr>\n",
       "    <tr>\n",
       "      <th>75%</th>\n",
       "      <td>70.750000</td>\n",
       "    </tr>\n",
       "    <tr>\n",
       "      <th>max</th>\n",
       "      <td>78.000000</td>\n",
       "    </tr>\n",
       "  </tbody>\n",
       "</table>\n",
       "</div>"
      ],
      "text/plain": [
       "         Vueltas\n",
       "count  22.000000\n",
       "mean   58.954545\n",
       "std    15.478025\n",
       "min     1.000000\n",
       "25%    53.000000\n",
       "50%    58.000000\n",
       "75%    70.750000\n",
       "max    78.000000"
      ]
     },
     "execution_count": 11,
     "metadata": {},
     "output_type": "execute_result"
    }
   ],
   "source": [
    "# Realizamos una pequeño añalisis de estadistica de la cantidad de vueltas.\n",
    "carreras.describe()"
   ]
  },
  {
   "cell_type": "code",
   "execution_count": null,
   "id": "9d047d3d",
   "metadata": {},
   "outputs": [],
   "source": []
  },
  {
   "cell_type": "markdown",
   "id": "4fe74807",
   "metadata": {},
   "source": [
    "---\n",
    "\n",
    "> Este proceso de revisión y preparación debemos efectuarlo para el resto de tablas."
   ]
  },
  {
   "cell_type": "code",
   "execution_count": 12,
   "id": "f2aced1a",
   "metadata": {},
   "outputs": [
    {
     "name": "stdout",
     "output_type": "stream",
     "text": [
      "<class 'pandas.core.frame.DataFrame'>\n",
      "RangeIndex: 21 entries, 0 to 20\n",
      "Data columns (total 5 columns):\n",
      " #   Column       Non-Null Count  Dtype  \n",
      "---  ------       --------------  -----  \n",
      " 0   Pos          21 non-null     int64  \n",
      " 1   Driver       21 non-null     object \n",
      " 2   Nationality  21 non-null     object \n",
      " 3   Car          21 non-null     object \n",
      " 4   PTS          21 non-null     float64\n",
      "dtypes: float64(1), int64(1), object(3)\n",
      "memory usage: 968.0+ bytes\n"
     ]
    }
   ],
   "source": [
    "pilotos.info()"
   ]
  },
  {
   "cell_type": "code",
   "execution_count": 13,
   "id": "d1c57916",
   "metadata": {},
   "outputs": [
    {
     "data": {
      "text/plain": [
       "Pos              int64\n",
       "Driver          object\n",
       "Nationality     object\n",
       "Car             object\n",
       "PTS            float64\n",
       "dtype: object"
      ]
     },
     "execution_count": 13,
     "metadata": {},
     "output_type": "execute_result"
    }
   ],
   "source": [
    "pilotos.dtypes"
   ]
  },
  {
   "cell_type": "code",
   "execution_count": 14,
   "id": "d3661c53",
   "metadata": {},
   "outputs": [
    {
     "data": {
      "text/plain": [
       "Index(['Pos', 'Driver', 'Nationality', 'Car', 'PTS'], dtype='object')"
      ]
     },
     "execution_count": 14,
     "metadata": {},
     "output_type": "execute_result"
    }
   ],
   "source": [
    "pilotos.columns"
   ]
  },
  {
   "cell_type": "code",
   "execution_count": 15,
   "id": "1211e804",
   "metadata": {},
   "outputs": [
    {
     "data": {
      "text/html": [
       "<div>\n",
       "<style scoped>\n",
       "    .dataframe tbody tr th:only-of-type {\n",
       "        vertical-align: middle;\n",
       "    }\n",
       "\n",
       "    .dataframe tbody tr th {\n",
       "        vertical-align: top;\n",
       "    }\n",
       "\n",
       "    .dataframe thead th {\n",
       "        text-align: right;\n",
       "    }\n",
       "</style>\n",
       "<table border=\"1\" class=\"dataframe\">\n",
       "  <thead>\n",
       "    <tr style=\"text-align: right;\">\n",
       "      <th></th>\n",
       "      <th>Pos</th>\n",
       "      <th>Driver</th>\n",
       "      <th>Nationality</th>\n",
       "      <th>Car</th>\n",
       "      <th>PTS</th>\n",
       "    </tr>\n",
       "  </thead>\n",
       "  <tbody>\n",
       "    <tr>\n",
       "      <th>0</th>\n",
       "      <td>1</td>\n",
       "      <td>Max Verstappen VER</td>\n",
       "      <td>NED</td>\n",
       "      <td>Red Bull Racing Honda</td>\n",
       "      <td>395.5</td>\n",
       "    </tr>\n",
       "    <tr>\n",
       "      <th>1</th>\n",
       "      <td>2</td>\n",
       "      <td>Lewis Hamilton HAM</td>\n",
       "      <td>GBR</td>\n",
       "      <td>Mercedes</td>\n",
       "      <td>387.5</td>\n",
       "    </tr>\n",
       "    <tr>\n",
       "      <th>2</th>\n",
       "      <td>3</td>\n",
       "      <td>Valtteri Bottas BOT</td>\n",
       "      <td>FIN</td>\n",
       "      <td>Mercedes</td>\n",
       "      <td>226.0</td>\n",
       "    </tr>\n",
       "    <tr>\n",
       "      <th>3</th>\n",
       "      <td>4</td>\n",
       "      <td>Sergio Perez PER</td>\n",
       "      <td>MEX</td>\n",
       "      <td>Red Bull Racing Honda</td>\n",
       "      <td>190.0</td>\n",
       "    </tr>\n",
       "    <tr>\n",
       "      <th>4</th>\n",
       "      <td>5</td>\n",
       "      <td>Carlos Sainz SAI</td>\n",
       "      <td>ESP</td>\n",
       "      <td>Ferrari</td>\n",
       "      <td>164.5</td>\n",
       "    </tr>\n",
       "  </tbody>\n",
       "</table>\n",
       "</div>"
      ],
      "text/plain": [
       "   Pos               Driver Nationality                    Car    PTS\n",
       "0    1   Max Verstappen VER         NED  Red Bull Racing Honda  395.5\n",
       "1    2   Lewis Hamilton HAM         GBR               Mercedes  387.5\n",
       "2    3  Valtteri Bottas BOT         FIN               Mercedes  226.0\n",
       "3    4     Sergio Perez PER         MEX  Red Bull Racing Honda  190.0\n",
       "4    5     Carlos Sainz SAI         ESP                Ferrari  164.5"
      ]
     },
     "execution_count": 15,
     "metadata": {},
     "output_type": "execute_result"
    }
   ],
   "source": [
    "pilotos.head()"
   ]
  },
  {
   "cell_type": "code",
   "execution_count": 16,
   "id": "9f37204a",
   "metadata": {},
   "outputs": [
    {
     "data": {
      "text/plain": [
       "Index(['Posicion', 'Piloto', 'Nacionalidad', 'Auto', 'Puntos'], dtype='object')"
      ]
     },
     "execution_count": 16,
     "metadata": {},
     "output_type": "execute_result"
    }
   ],
   "source": [
    "pilotos.set_axis([\"Posicion\", \"Piloto\", \"Nacionalidad\", \"Auto\", \"Puntos\"], axis=1, inplace=True)\n",
    "pilotos.columns"
   ]
  },
  {
   "cell_type": "code",
   "execution_count": 17,
   "id": "b8273ab7",
   "metadata": {},
   "outputs": [
    {
     "data": {
      "image/png": "[encoded data removed]",
      "text/plain": [
       "<Figure size 432x288 with 1 Axes>"
      ]
     },
     "metadata": {
      "needs_background": "light"
     },
     "output_type": "display_data"
    }
   ],
   "source": [
    "pilotos.groupby(\"Auto\")[\"Puntos\"].sum().plot.barh(title=\"Total de Puntos de Piloto agrupados por Autos \", legend= False, color= \"#20d29a\")\n",
    "plt.ylabel(\"\")\n",
    "plt.show()"
   ]
  },
  {
   "cell_type": "code",
   "execution_count": null,
   "id": "e892b9b5",
   "metadata": {},
   "outputs": [],
   "source": []
  },
  {
   "cell_type": "markdown",
   "id": "f1feaa76",
   "metadata": {},
   "source": [
    "---"
   ]
  },
  {
   "cell_type": "code",
   "execution_count": 18,
   "id": "4d71ed22",
   "metadata": {},
   "outputs": [
    {
     "name": "stdout",
     "output_type": "stream",
     "text": [
      "<class 'pandas.core.frame.DataFrame'>\n",
      "RangeIndex: 10 entries, 0 to 9\n",
      "Data columns (total 3 columns):\n",
      " #   Column  Non-Null Count  Dtype  \n",
      "---  ------  --------------  -----  \n",
      " 0   Pos     10 non-null     int64  \n",
      " 1   Team    10 non-null     object \n",
      " 2   PTS     10 non-null     float64\n",
      "dtypes: float64(1), int64(1), object(1)\n",
      "memory usage: 368.0+ bytes\n"
     ]
    }
   ],
   "source": [
    "escuderia.info()"
   ]
  },
  {
   "cell_type": "code",
   "execution_count": 19,
   "id": "56768738",
   "metadata": {},
   "outputs": [
    {
     "data": {
      "text/plain": [
       "Pos       int64\n",
       "Team     object\n",
       "PTS     float64\n",
       "dtype: object"
      ]
     },
     "execution_count": 19,
     "metadata": {},
     "output_type": "execute_result"
    }
   ],
   "source": [
    "escuderia.dtypes"
   ]
  },
  {
   "cell_type": "code",
   "execution_count": 20,
   "id": "5f3f5978",
   "metadata": {},
   "outputs": [
    {
     "data": {
      "text/plain": [
       "Index(['Pos', 'Team', 'PTS'], dtype='object')"
      ]
     },
     "execution_count": 20,
     "metadata": {},
     "output_type": "execute_result"
    }
   ],
   "source": [
    "escuderia.columns"
   ]
  },
  {
   "cell_type": "code",
   "execution_count": 21,
   "id": "e86295c0",
   "metadata": {},
   "outputs": [
    {
     "data": {
      "text/html": [
       "<div>\n",
       "<style scoped>\n",
       "    .dataframe tbody tr th:only-of-type {\n",
       "        vertical-align: middle;\n",
       "    }\n",
       "\n",
       "    .dataframe tbody tr th {\n",
       "        vertical-align: top;\n",
       "    }\n",
       "\n",
       "    .dataframe thead th {\n",
       "        text-align: right;\n",
       "    }\n",
       "</style>\n",
       "<table border=\"1\" class=\"dataframe\">\n",
       "  <thead>\n",
       "    <tr style=\"text-align: right;\">\n",
       "      <th></th>\n",
       "      <th>Pos</th>\n",
       "      <th>Team</th>\n",
       "      <th>PTS</th>\n",
       "    </tr>\n",
       "  </thead>\n",
       "  <tbody>\n",
       "    <tr>\n",
       "      <th>0</th>\n",
       "      <td>1</td>\n",
       "      <td>Mercedes</td>\n",
       "      <td>613.5</td>\n",
       "    </tr>\n",
       "    <tr>\n",
       "      <th>1</th>\n",
       "      <td>2</td>\n",
       "      <td>Red Bull Racing Honda</td>\n",
       "      <td>585.5</td>\n",
       "    </tr>\n",
       "    <tr>\n",
       "      <th>2</th>\n",
       "      <td>3</td>\n",
       "      <td>Ferrari</td>\n",
       "      <td>323.5</td>\n",
       "    </tr>\n",
       "    <tr>\n",
       "      <th>3</th>\n",
       "      <td>4</td>\n",
       "      <td>McLaren Mercedes</td>\n",
       "      <td>275.0</td>\n",
       "    </tr>\n",
       "    <tr>\n",
       "      <th>4</th>\n",
       "      <td>5</td>\n",
       "      <td>Alpine Renault</td>\n",
       "      <td>155.0</td>\n",
       "    </tr>\n",
       "    <tr>\n",
       "      <th>5</th>\n",
       "      <td>6</td>\n",
       "      <td>AlphaTauri Honda</td>\n",
       "      <td>142.0</td>\n",
       "    </tr>\n",
       "    <tr>\n",
       "      <th>6</th>\n",
       "      <td>7</td>\n",
       "      <td>Aston Martin Mercedes</td>\n",
       "      <td>77.0</td>\n",
       "    </tr>\n",
       "    <tr>\n",
       "      <th>7</th>\n",
       "      <td>8</td>\n",
       "      <td>Williams Mercedes</td>\n",
       "      <td>23.0</td>\n",
       "    </tr>\n",
       "    <tr>\n",
       "      <th>8</th>\n",
       "      <td>9</td>\n",
       "      <td>Alfa Romeo Racing Ferrari</td>\n",
       "      <td>13.0</td>\n",
       "    </tr>\n",
       "    <tr>\n",
       "      <th>9</th>\n",
       "      <td>10</td>\n",
       "      <td>Haas Ferrari</td>\n",
       "      <td>0.0</td>\n",
       "    </tr>\n",
       "  </tbody>\n",
       "</table>\n",
       "</div>"
      ],
      "text/plain": [
       "   Pos                       Team    PTS\n",
       "0    1                   Mercedes  613.5\n",
       "1    2      Red Bull Racing Honda  585.5\n",
       "2    3                    Ferrari  323.5\n",
       "3    4           McLaren Mercedes  275.0\n",
       "4    5             Alpine Renault  155.0\n",
       "5    6           AlphaTauri Honda  142.0\n",
       "6    7      Aston Martin Mercedes   77.0\n",
       "7    8          Williams Mercedes   23.0\n",
       "8    9  Alfa Romeo Racing Ferrari   13.0\n",
       "9   10               Haas Ferrari    0.0"
      ]
     },
     "execution_count": 21,
     "metadata": {},
     "output_type": "execute_result"
    }
   ],
   "source": [
    "escuderia.head(10)"
   ]
  },
  {
   "cell_type": "code",
   "execution_count": 22,
   "id": "da8f6d79",
   "metadata": {},
   "outputs": [
    {
     "data": {
      "text/plain": [
       "Index(['Posicion', 'Escuderia', 'Puntos'], dtype='object')"
      ]
     },
     "execution_count": 22,
     "metadata": {},
     "output_type": "execute_result"
    }
   ],
   "source": [
    "escuderia.set_axis([\"Posicion\", \"Escuderia\", \"Puntos\"], axis=1, inplace=True)\n",
    "escuderia.columns"
   ]
  },
  {
   "cell_type": "code",
   "execution_count": 23,
   "id": "c4f11961",
   "metadata": {},
   "outputs": [
    {
     "data": {
      "text/html": [
       "<div>\n",
       "<style scoped>\n",
       "    .dataframe tbody tr th:only-of-type {\n",
       "        vertical-align: middle;\n",
       "    }\n",
       "\n",
       "    .dataframe tbody tr th {\n",
       "        vertical-align: top;\n",
       "    }\n",
       "\n",
       "    .dataframe thead th {\n",
       "        text-align: right;\n",
       "    }\n",
       "</style>\n",
       "<table border=\"1\" class=\"dataframe\">\n",
       "  <thead>\n",
       "    <tr style=\"text-align: right;\">\n",
       "      <th></th>\n",
       "      <th>Posicion</th>\n",
       "      <th>Puntos</th>\n",
       "    </tr>\n",
       "  </thead>\n",
       "  <tbody>\n",
       "    <tr>\n",
       "      <th>count</th>\n",
       "      <td>10.00000</td>\n",
       "      <td>10.00000</td>\n",
       "    </tr>\n",
       "    <tr>\n",
       "      <th>mean</th>\n",
       "      <td>5.50000</td>\n",
       "      <td>220.75000</td>\n",
       "    </tr>\n",
       "    <tr>\n",
       "      <th>std</th>\n",
       "      <td>3.02765</td>\n",
       "      <td>226.80881</td>\n",
       "    </tr>\n",
       "    <tr>\n",
       "      <th>min</th>\n",
       "      <td>1.00000</td>\n",
       "      <td>0.00000</td>\n",
       "    </tr>\n",
       "    <tr>\n",
       "      <th>25%</th>\n",
       "      <td>3.25000</td>\n",
       "      <td>36.50000</td>\n",
       "    </tr>\n",
       "    <tr>\n",
       "      <th>50%</th>\n",
       "      <td>5.50000</td>\n",
       "      <td>148.50000</td>\n",
       "    </tr>\n",
       "    <tr>\n",
       "      <th>75%</th>\n",
       "      <td>7.75000</td>\n",
       "      <td>311.37500</td>\n",
       "    </tr>\n",
       "    <tr>\n",
       "      <th>max</th>\n",
       "      <td>10.00000</td>\n",
       "      <td>613.50000</td>\n",
       "    </tr>\n",
       "  </tbody>\n",
       "</table>\n",
       "</div>"
      ],
      "text/plain": [
       "       Posicion     Puntos\n",
       "count  10.00000   10.00000\n",
       "mean    5.50000  220.75000\n",
       "std     3.02765  226.80881\n",
       "min     1.00000    0.00000\n",
       "25%     3.25000   36.50000\n",
       "50%     5.50000  148.50000\n",
       "75%     7.75000  311.37500\n",
       "max    10.00000  613.50000"
      ]
     },
     "execution_count": 23,
     "metadata": {},
     "output_type": "execute_result"
    }
   ],
   "source": [
    "escuderia.describe()"
   ]
  },
  {
   "cell_type": "code",
   "execution_count": 24,
   "id": "3742ff14",
   "metadata": {},
   "outputs": [
    {
     "data": {
      "image/png": "[encoded data removed]",
      "text/plain": [
       "<Figure size 432x288 with 1 Axes>"
      ]
     },
     "metadata": {},
     "output_type": "display_data"
    }
   ],
   "source": [
    "color = [\"#EE6055\",\"#60D394\",\"#AAF683\",\"#FFD97D\",\"#FF9B85\"]\n",
    "escuderia[\"Puntos\"].head().plot(kind=\"pie\", \n",
    "                                 labels=escuderia[\"Escuderia\"], \n",
    "                                 autopct='%0.1f%%', \n",
    "                                 title=\"Top 5 Puntos por Escuderias\",\n",
    "                                 colors=color,\n",
    "                                 shadow=True)\n",
    "plt.ylabel(\"\")\n",
    "plt.show()"
   ]
  },
  {
   "cell_type": "code",
   "execution_count": null,
   "id": "0b47697e",
   "metadata": {},
   "outputs": [],
   "source": []
  },
  {
   "cell_type": "markdown",
   "id": "cd6cc919",
   "metadata": {},
   "source": [
    "---"
   ]
  },
  {
   "cell_type": "code",
   "execution_count": 25,
   "id": "797f7904",
   "metadata": {},
   "outputs": [
    {
     "name": "stdout",
     "output_type": "stream",
     "text": [
      "<class 'pandas.core.frame.DataFrame'>\n",
      "RangeIndex: 21 entries, 0 to 20\n",
      "Data columns (total 4 columns):\n",
      " #   Column      Non-Null Count  Dtype \n",
      "---  ------      --------------  ----- \n",
      " 0   Grand Prix  21 non-null     object\n",
      " 1   Driver      21 non-null     object\n",
      " 2   Car         21 non-null     object\n",
      " 3   Time        21 non-null     object\n",
      "dtypes: object(4)\n",
      "memory usage: 800.0+ bytes\n"
     ]
    }
   ],
   "source": [
    "vuelta.info()"
   ]
  },
  {
   "cell_type": "code",
   "execution_count": 26,
   "id": "ee265174",
   "metadata": {},
   "outputs": [
    {
     "data": {
      "text/plain": [
       "Grand Prix    object\n",
       "Driver        object\n",
       "Car           object\n",
       "Time          object\n",
       "dtype: object"
      ]
     },
     "execution_count": 26,
     "metadata": {},
     "output_type": "execute_result"
    }
   ],
   "source": [
    "vuelta.dtypes"
   ]
  },
  {
   "cell_type": "code",
   "execution_count": 27,
   "id": "ea44c5ef",
   "metadata": {},
   "outputs": [
    {
     "data": {
      "text/plain": [
       "Index(['Grand Prix', 'Driver', 'Car', 'Time'], dtype='object')"
      ]
     },
     "execution_count": 27,
     "metadata": {},
     "output_type": "execute_result"
    }
   ],
   "source": [
    "vuelta.columns"
   ]
  },
  {
   "cell_type": "code",
   "execution_count": 28,
   "id": "1b1e169f",
   "metadata": {},
   "outputs": [
    {
     "data": {
      "text/html": [
       "<div>\n",
       "<style scoped>\n",
       "    .dataframe tbody tr th:only-of-type {\n",
       "        vertical-align: middle;\n",
       "    }\n",
       "\n",
       "    .dataframe tbody tr th {\n",
       "        vertical-align: top;\n",
       "    }\n",
       "\n",
       "    .dataframe thead th {\n",
       "        text-align: right;\n",
       "    }\n",
       "</style>\n",
       "<table border=\"1\" class=\"dataframe\">\n",
       "  <thead>\n",
       "    <tr style=\"text-align: right;\">\n",
       "      <th></th>\n",
       "      <th>Grand Prix</th>\n",
       "      <th>Driver</th>\n",
       "      <th>Car</th>\n",
       "      <th>Time</th>\n",
       "    </tr>\n",
       "  </thead>\n",
       "  <tbody>\n",
       "    <tr>\n",
       "      <th>0</th>\n",
       "      <td>Bahrain</td>\n",
       "      <td>Valtteri Bottas BOT</td>\n",
       "      <td>Mercedes</td>\n",
       "      <td>1:32.090</td>\n",
       "    </tr>\n",
       "    <tr>\n",
       "      <th>1</th>\n",
       "      <td>Emilia Romagna</td>\n",
       "      <td>Lewis Hamilton HAM</td>\n",
       "      <td>Mercedes</td>\n",
       "      <td>1:16.702</td>\n",
       "    </tr>\n",
       "    <tr>\n",
       "      <th>2</th>\n",
       "      <td>Portugal</td>\n",
       "      <td>Valtteri Bottas BOT</td>\n",
       "      <td>Mercedes</td>\n",
       "      <td>1:19.865</td>\n",
       "    </tr>\n",
       "    <tr>\n",
       "      <th>3</th>\n",
       "      <td>Spain</td>\n",
       "      <td>Max Verstappen VER</td>\n",
       "      <td>Red Bull Racing Honda</td>\n",
       "      <td>1:18.149</td>\n",
       "    </tr>\n",
       "    <tr>\n",
       "      <th>4</th>\n",
       "      <td>Monaco</td>\n",
       "      <td>Lewis Hamilton HAM</td>\n",
       "      <td>Mercedes</td>\n",
       "      <td>1:12.909</td>\n",
       "    </tr>\n",
       "  </tbody>\n",
       "</table>\n",
       "</div>"
      ],
      "text/plain": [
       "       Grand Prix               Driver                    Car      Time\n",
       "0         Bahrain  Valtteri Bottas BOT               Mercedes  1:32.090\n",
       "1  Emilia Romagna   Lewis Hamilton HAM               Mercedes  1:16.702\n",
       "2        Portugal  Valtteri Bottas BOT               Mercedes  1:19.865\n",
       "3           Spain   Max Verstappen VER  Red Bull Racing Honda  1:18.149\n",
       "4          Monaco   Lewis Hamilton HAM               Mercedes  1:12.909"
      ]
     },
     "execution_count": 28,
     "metadata": {},
     "output_type": "execute_result"
    }
   ],
   "source": [
    "vuelta.head()"
   ]
  },
  {
   "cell_type": "code",
   "execution_count": 29,
   "id": "8454a10c",
   "metadata": {},
   "outputs": [
    {
     "data": {
      "text/plain": [
       "Index(['Carrera', 'Piloto', 'Auto', 'VueltaRapida'], dtype='object')"
      ]
     },
     "execution_count": 29,
     "metadata": {},
     "output_type": "execute_result"
    }
   ],
   "source": [
    "vuelta.set_axis([\"Carrera\", \"Piloto\", \"Auto\", \"VueltaRapida\"], axis=1, inplace=True)\n",
    "vuelta.columns"
   ]
  },
  {
   "cell_type": "code",
   "execution_count": 30,
   "id": "fbe04012",
   "metadata": {},
   "outputs": [
    {
     "data": {
      "text/html": [
       "<div>\n",
       "<style scoped>\n",
       "    .dataframe tbody tr th:only-of-type {\n",
       "        vertical-align: middle;\n",
       "    }\n",
       "\n",
       "    .dataframe tbody tr th {\n",
       "        vertical-align: top;\n",
       "    }\n",
       "\n",
       "    .dataframe thead th {\n",
       "        text-align: right;\n",
       "    }\n",
       "</style>\n",
       "<table border=\"1\" class=\"dataframe\">\n",
       "  <thead>\n",
       "    <tr style=\"text-align: right;\">\n",
       "      <th></th>\n",
       "      <th>Carrera</th>\n",
       "      <th>Piloto</th>\n",
       "      <th>Auto</th>\n",
       "      <th>VueltaRapida</th>\n",
       "    </tr>\n",
       "  </thead>\n",
       "  <tbody>\n",
       "    <tr>\n",
       "      <th>count</th>\n",
       "      <td>21</td>\n",
       "      <td>21</td>\n",
       "      <td>21</td>\n",
       "      <td>21</td>\n",
       "    </tr>\n",
       "    <tr>\n",
       "      <th>unique</th>\n",
       "      <td>21</td>\n",
       "      <td>7</td>\n",
       "      <td>4</td>\n",
       "      <td>21</td>\n",
       "    </tr>\n",
       "    <tr>\n",
       "      <th>top</th>\n",
       "      <td>Russia</td>\n",
       "      <td>Max Verstappen VER</td>\n",
       "      <td>Mercedes</td>\n",
       "      <td>1:24.812</td>\n",
       "    </tr>\n",
       "    <tr>\n",
       "      <th>freq</th>\n",
       "      <td>1</td>\n",
       "      <td>6</td>\n",
       "      <td>10</td>\n",
       "      <td>1</td>\n",
       "    </tr>\n",
       "  </tbody>\n",
       "</table>\n",
       "</div>"
      ],
      "text/plain": [
       "       Carrera              Piloto      Auto VueltaRapida\n",
       "count       21                  21        21           21\n",
       "unique      21                   7         4           21\n",
       "top     Russia  Max Verstappen VER  Mercedes     1:24.812\n",
       "freq         1                   6        10            1"
      ]
     },
     "execution_count": 30,
     "metadata": {},
     "output_type": "execute_result"
    }
   ],
   "source": [
    "vuelta.describe()"
   ]
  },
  {
   "cell_type": "code",
   "execution_count": null,
   "id": "a734409f",
   "metadata": {},
   "outputs": [],
   "source": []
  },
  {
   "cell_type": "markdown",
   "id": "c52b1f2a",
   "metadata": {},
   "source": [
    "---"
   ]
  },
  {
   "cell_type": "markdown",
   "id": "1f3783e8",
   "metadata": {},
   "source": [
    "## Guardado de datos\n",
    "Las modificaciones realizadas podemos guardarlas, exportando los datos a csv nuevamente, con lo que pisamos los registros anteriores, asegurandonos asi de que estas modificaciones queden impactadas en los archivos originales que subiremos a SQL."
   ]
  },
  {
   "cell_type": "code",
   "execution_count": 31,
   "id": "ae322039",
   "metadata": {},
   "outputs": [],
   "source": [
    "carreras.to_csv(\"salida/2021_racesCarreras.csv\", index=None, header=True)\n",
    "pilotos.to_csv(\"salida/2021_drivers1Pilotos.csv\", index=None, header=True)\n",
    "escuderia.to_csv(\"salida/2021_team1Equipos.csv\", index=None, header=True)\n",
    "vuelta.to_csv(\"salida/2021_fastest-laps1Vueltas.csv\", index=None, header=True)"
   ]
  },
  {
   "cell_type": "code",
   "execution_count": null,
   "id": "868e3fea",
   "metadata": {},
   "outputs": [],
   "source": []
  },
  {
   "cell_type": "markdown",
   "id": "739392e6",
   "metadata": {},
   "source": [
    "---"
   ]
  },
  {
   "cell_type": "markdown",
   "id": "62af31ae",
   "metadata": {},
   "source": [
    "## Conectamos a Base de Datos MYSQL"
   ]
  },
  {
   "cell_type": "code",
   "execution_count": 32,
   "id": "93650073",
   "metadata": {},
   "outputs": [],
   "source": [
    "# Solo si no disponemos del modulo para MySQL, descomentar la linea de abajo y ejecutar la celda de codigo\n",
    "#!pip install mysql-connector"
   ]
  },
  {
   "cell_type": "markdown",
   "id": "b475da2f",
   "metadata": {},
   "source": [
    "#### Probamos la conexión con nuestra base de datos"
   ]
  },
  {
   "cell_type": "code",
   "execution_count": 33,
   "id": "30d76e8f",
   "metadata": {},
   "outputs": [
    {
     "name": "stdout",
     "output_type": "stream",
     "text": [
      "Conexión correcta\n",
      "('bd_dav',)\n",
      "('dav_curso1',)\n",
      "('digitalers',)\n",
      "('information_schema',)\n",
      "('ispc',)\n",
      "('laboratorio',)\n",
      "('labtest1',)\n",
      "('mysql',)\n",
      "('performance_schema',)\n",
      "('phpmyadmin',)\n",
      "('test',)\n",
      "Conexion cerrada\n"
     ]
    }
   ],
   "source": [
    "import mysql.connector\n",
    "\n",
    "conexion= mysql.connector.connect(host=\"localhost\", user=\"ispc\", password=\"ProyectoISPC\")\n",
    "print(\"Conexión correcta\")\n",
    "\n",
    "cursor= conexion.cursor()\n",
    "cursor.execute(\"show databases\")\n",
    "for base in cursor:\n",
    "    print(base)\n",
    "conexion.close()\n",
    "print(\"Conexion cerrada\")"
   ]
  },
  {
   "cell_type": "markdown",
   "id": "4880972e",
   "metadata": {},
   "source": [
    "Procedemos a crear una tabla desde Python en nuestra base de datos MySQL."
   ]
  },
  {
   "cell_type": "code",
   "execution_count": 34,
   "id": "207d0723",
   "metadata": {},
   "outputs": [
    {
     "name": "stdout",
     "output_type": "stream",
     "text": [
      "Conexión correcta\n",
      "Conexion cerrada\n"
     ]
    }
   ],
   "source": [
    "conexion= mysql.connector.connect(host=\"localhost\", user=\"ispc\", password=\"ProyectoISPC\")\n",
    "print(\"Conexión correcta\")\n",
    "cursor= conexion.cursor()\n",
    "\n",
    "sql=\"use ispc\"\n",
    "cursor.execute(sql)\n",
    "\n",
    "sql=\"\"\"CREATE TABLE IF NOT EXISTS `carreras` (\n",
    "        `IDCarrera`\tINTEGER NOT NULL AUTO_INCREMENT,\n",
    "        `Carrera`\tVARCHAR(30),\n",
    "        `Fecha`\t\tDATE,\n",
    "        `Ganador`\tVARCHAR(30),\n",
    "        `Auto`\t\tVARCHAR(30),\n",
    "        `Vueltas`\tINTEGER,\n",
    "        `Tiempo`\tTIME,\n",
    "        PRIMARY KEY (IDCarrera)\n",
    "        ) ENGINE=InnoDB DEFAULT CHARSET=utf8mb4 COLLATE=utf8mb4_spanish_ci;\n",
    "    \"\"\"\n",
    "cursor.execute(sql)\n",
    "\n",
    "sql=\"\"\"CREATE TABLE IF NOT EXISTS `pilotos` (\n",
    "      `IDPiloto`\tINTEGER NOT NULL AUTO_INCREMENT,\n",
    "      `Posicion`\tINTEGER,\n",
    "      `Piloto` \t\t\t\tVARCHAR(30),\n",
    "      `Nacionalidad`\t\tVARCHAR(30),\n",
    "      `Auto`\t\t\t\tVARCHAR(30),\n",
    "      `Puntos`\t\t\t\tINTEGER,\n",
    "      PRIMARY KEY (IDPiloto)\n",
    "        ) ENGINE=InnoDB DEFAULT CHARSET=utf8mb4 COLLATE=utf8mb4_spanish_ci;\n",
    "    \"\"\"\n",
    "cursor.execute(sql)\n",
    "\n",
    "sql=\"\"\"CREATE TABLE IF NOT EXISTS `escuderias` (\n",
    "      `IDEscuderia`\tINTEGER NOT NULL AUTO_INCREMENT,\n",
    "      `Posicion`\tINTEGER,\n",
    "      `Escuderia` \t\t\tVARCHAR(30),\n",
    "      `Puntos`\t\t\t\tVARCHAR(30),\n",
    "      PRIMARY KEY (IDEscuderia)\n",
    "      ) ENGINE=InnoDB DEFAULT CHARSET=utf8mb4 COLLATE=utf8mb4_spanish_ci;\n",
    "    \"\"\"\n",
    "cursor.execute(sql)\n",
    "\n",
    "sql=\"\"\"CREATE TABLE IF NOT EXISTS `vuelta` (\n",
    "      `Carrera`\t\t\t\tVARCHAR(30),\n",
    "      `Piloto` \t\t\t\tVARCHAR(30),\n",
    "      `Auto`\t\t\t\tVARCHAR(30),\n",
    "      `VueltaRapida`\t\tTIME\n",
    "      ) ENGINE=InnoDB DEFAULT CHARSET=utf8mb4 COLLATE=utf8mb4_spanish_ci;\n",
    "    \"\"\"\n",
    "cursor.execute(sql)\n",
    "\n",
    "conexion.commit()\n",
    "conexion.close()\n",
    "print(\"Conexion cerrada\")"
   ]
  },
  {
   "cell_type": "markdown",
   "id": "334c8701",
   "metadata": {},
   "source": [
    "### Carga de registros\n",
    "La carga puede realizarse de a 1 registro o de a varios; a modo de ejemplo mostraremos la carga para la tabla `carreras`; esta conectividad entre SQL y Python no suele ser siempre las mas adecuada, ya que carece de muchas funcionalidades, pero para unos pocos registros vale la pena el ejemplo. En algunos casos usamos la primera columna como id de la tabla y posee la cualidad auto incremental, por lo que no setearemos el valor de la misma al realizar la carga de registros.\n",
    "**NOTA:** hay que tener mucho cuidado con esto por si repetimos la carga de un registro, dicha columna continua incrementando su valor.\n",
    "\n",
    "> Para un solo registro"
   ]
  },
  {
   "cell_type": "code",
   "execution_count": 35,
   "id": "2561cc81",
   "metadata": {},
   "outputs": [
    {
     "name": "stdout",
     "output_type": "stream",
     "text": [
      "Conexión correcta\n",
      "valor: 1\n"
     ]
    }
   ],
   "source": [
    "conexion= mysql.connector.connect(host=\"localhost\", user=\"ispc\", password=\"ProyectoISPC\")\n",
    "print(\"Conexión correcta\")\n",
    "cursor= conexion.cursor()\n",
    "\n",
    "sql=\"use ispc\"\n",
    "cursor.execute(sql)\n",
    "\n",
    "sql= \"insert into carreras(Carrera, Fecha, Ganador, Auto, Vueltas, Tiempo) values (%s,%s,%s,%s,%s,%s)\"\n",
    "registro= (\"Bahrain\",\"2021-03-28\",\"Lewis Hamilton HAM\",\"Mercedes\",56,\"1:32:03.897\")\n",
    "cursor.execute(sql, registro)\n",
    "conexion.commit()\n",
    "print(\"valor:\", cursor.lastrowid)\n",
    "conexion.close()"
   ]
  },
  {
   "cell_type": "markdown",
   "id": "4142cdd1",
   "metadata": {},
   "source": [
    "> Para varios registros"
   ]
  },
  {
   "cell_type": "code",
   "execution_count": 36,
   "id": "6bc338f6",
   "metadata": {},
   "outputs": [
    {
     "name": "stdout",
     "output_type": "stream",
     "text": [
      "Conexión correcta\n",
      "valor: 2\n"
     ]
    }
   ],
   "source": [
    "conexion= mysql.connector.connect(host=\"localhost\", user=\"ispc\", password=\"ProyectoISPC\")\n",
    "print(\"Conexión correcta\")\n",
    "cursor= conexion.cursor()\n",
    "\n",
    "sql=\"use ispc\"\n",
    "cursor.execute(sql)\n",
    "\n",
    "sql= \"insert into carreras(Carrera, Fecha, Ganador, Auto, Vueltas, Tiempo) values (%s,%s,%s,%s,%s,%s)\"\n",
    "registro= [(\"Emilia Romagna\",\"2021-04-18\",\"Max Verstappen VER\",\"Red Bull Racing Honda\",63,\"2:02:34.598\"),\n",
    "        (\"Portugal\",\"2021-05-02\",\"Lewis Hamilton HAM\",\"Mercedes\",66,\"1:34:31.421\"),\n",
    "        (\"Spain\",\"2021-05-09\",\"Lewis Hamilton HAM\",\"Mercedes\",66,\"1:33:07.680\"),\n",
    "        (\"Monaco\",\"2021-05-23\",\"Max Verstappen VER\",\"Red Bull Racing Honda\",78,\"1:38:56.820\"),\n",
    "        (\"Azerbaijan\",\"2021-06-06\",\"Sergio Perez PER\",\"Red Bull Racing Honda\",51,\"2:13:36.410\"),\n",
    "        (\"France\",\"2021-06-20\",\"Max Verstappen VER\",\"Red Bull Racing Honda\",53,\"1:27:25.770\"),\n",
    "        (\"Styria\",\"2021-06-27\",\"Max Verstappen VER\",\"Red Bull Racing Honda\",71,\"1:22:18.925\"),\n",
    "        (\"Austria\",\"2021-07-04\",\"Max Verstappen VER\",\"Red Bull Racing Honda\",71,\"1:23:54.543\"),\n",
    "        (\"Great Britain\",\"2021-07-18\",\"Lewis Hamilton HAM\",\"Mercedes\",52,\"1:58:23.284\"),\n",
    "        (\"Hungary\",\"2021-08-01\",\"Esteban Ocon OCO\",\"Alpine Renault\",70,\"2:04:43.199\"),\n",
    "        (\"Belgium\",\"2021-08-29\",\"Max Verstappen VER\",\"Red Bull Racing Honda\",1,\"0:03:27.071\"),\n",
    "        (\"Netherlands\",\"2021-09-05\",\"Max Verstappen VER\",\"Red Bull Racing Honda\",72,\"1:30:05.395\"),\n",
    "        (\"Italy\",\"2021-09-12\",\"Daniel Ricciardo RIC\",\"McLaren Mercedes\",53,\"1:21:54.365\"),\n",
    "        (\"Russia\",\"2021-09-26\",\"Lewis Hamilton HAM\",\"Mercedes\",53,\"1:30:41.001\"),\n",
    "        (\"Turkey\",\"2021-10-10\",\"Valtteri Bottas BOT\",\"Mercedes\",58,\"1:31:04.103\"),\n",
    "        (\"United States\",\"2021-10-24\",\"Max Verstappen VER\",\"Red Bull Racing Honda\",56,\"1:34:36.552\"),\n",
    "        (\"Mexico\",\"2021-11-07\",\"Max Verstappen VER\",\"Red Bull Racing Honda\",71,\"1:38:39.086\"),\n",
    "        (\"Brazil\",\"2021-11-14\",\"Lewis Hamilton HAM\",\"Mercedes\",71,\"1:32:22.851\"),\n",
    "        (\"Qatar\",\"2021-11-21\",\"Lewis Hamilton HAM\",\"Mercedes\",57,\"1:24:28.471\"),\n",
    "        (\"Saudi Arabia\",\"2021-12-05\",\"Lewis Hamilton HAM\",\"Mercedes\",50,\"2:06:15.118\"),\n",
    "        (\"Abu Dhabi\",\"2021-12-12\",\"Max Verstappen VER\",\"Red Bull Racing Honda\",58,\"1:30:17.345\")]\n",
    "cursor.executemany(sql, registro)\n",
    "conexion.commit()\n",
    "print(\"valor:\", cursor.lastrowid)\n",
    "conexion.close()"
   ]
  },
  {
   "cell_type": "markdown",
   "id": "571b9bd9",
   "metadata": {},
   "source": [
    "---"
   ]
  },
  {
   "cell_type": "markdown",
   "id": "0439ce59",
   "metadata": {},
   "source": [
    "Por cuestiones de practicidad el resto de tablas serán llenadas desde MySQL."
   ]
  },
  {
   "cell_type": "code",
   "execution_count": null,
   "id": "53c3fbaf",
   "metadata": {},
   "outputs": [],
   "source": []
  }
 ],
 "metadata": {
  "kernelspec": {
   "display_name": "Python 3",
   "language": "python",
   "name": "python3"
  },
  "language_info": {
   "codemirror_mode": {
    "name": "ipython",
    "version": 3
   },
   "file_extension": ".py",
   "mimetype": "text/x-python",
   "name": "python",
   "nbconvert_exporter": "python",
   "pygments_lexer": "ipython3",
   "version": "3.8.8"
  }
 },
 "nbformat": 4,
 "nbformat_minor": 5
}
