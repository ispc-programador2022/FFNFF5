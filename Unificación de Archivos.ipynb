{
 "cells": [
  {
   "cell_type": "markdown",
   "id": "1da55a2a",
   "metadata": {},
   "source": [
    "![Portada](https://github.com/ispc-programador2022/FFNFF5/blob/main/recursos/unificacion.jpeg?raw=true \"Proyecto Tecnologico Integrador ISPC 2022\")\n",
    "\n",
    "## Importamos librerias a usar"
   ]
  },
  {
   "cell_type": "markdown",
   "id": "429b05ba",
   "metadata": {},
   "source": [
    "El objetivo de esta notebook es agrupar la información obtenida de las más de 100 tablas descargadas en el Web Scraping.\n",
    "![Archivos](https://github.com/ispc-programador2022/FFNFF5/blob/main/recursos/Archivos.jpg?raw=true \"Tablas obtenidas con WebScraping\")\n",
    "\n",
    "Debemos procesar este \"Scrapeo\" y generar un único archivo excel con la información completa repartida en hojas independientes que luego utilizaremos como tablas principales de nuestro modelo de  datos.\n",
    "Aqui en particular usaremos el módulo `glob` que nos ayuda a encontrar todos los nombres de rutas que tengan coincidencia con un patrón específico que le brindamos."
   ]
  },
  {
   "cell_type": "code",
   "execution_count": 1,
   "id": "687b6854",
   "metadata": {},
   "outputs": [],
   "source": [
    "import pandas as pd\n",
    "import numpy as np\n",
    "import os\n",
    "import glob"
   ]
  },
  {
   "cell_type": "markdown",
   "id": "ded2cacf",
   "metadata": {},
   "source": [
    "Creamos la función que se va a encargar de concatenar las tablas obtenidas de acuerdo al criterio que le pasemos posteriomente, además creará el archivo excel final e irá sumando hojas para cada nuevo criterio que indiquemos."
   ]
  },
  {
   "cell_type": "code",
   "execution_count": null,
   "id": "9961232c",
   "metadata": {},
   "outputs": [],
   "source": []
  },
  {
   "cell_type": "raw",
   "id": "f4426ea5",
   "metadata": {},
   "source": [
    "def salida(x):\n",
    "    lista= []\n",
    "    \n",
    "    for i in x:\n",
    "        print(i)\n",
    "        data= pd.read_excel(i, header= 0)\n",
    "        lista.append(data)\n",
    "        \n",
    "    df= pd.concat(lista, ignore_index=True)\n",
    "        \n",
    "    if os.path.exists(\"salida/F1.xlsx\") == False:    \n",
    "        with pd.ExcelWriter(\"salida/F1.xlsx\") as wr:\n",
    "            df.to_excel(wr)\n",
    "    else:\n",
    "        with pd.ExcelWriter(\"salida/F1.xlsx\", engine='openpyxl', mode=\"a\") as wr:\n",
    "            df.to_excel(wr, sheet_name= \"new\")\n",
    "           \n",
    "# Cargamos los path a verificar con glob\n",
    "a1= glob.glob(\"*race-result.xlsx\")\n",
    "a2= glob.glob(\"*fastest-laps.xlsx\")\n",
    "a3= glob.glob(\"*pit-stop.xlsx\")\n",
    "a4= glob.glob(\"*starting-grid.xlsx\")\n",
    "a5= glob.glob(\"*qualifying.xlsx\")\n",
    "\n",
    "# Listamos\n",
    "group= [a1, a2, a3, a4, a5]\n"
   ]
  },
  {
   "cell_type": "code",
   "execution_count": null,
   "id": "e6379ac7",
   "metadata": {},
   "outputs": [],
   "source": []
  },
  {
   "cell_type": "code",
   "execution_count": null,
   "id": "5de97e38",
   "metadata": {},
   "outputs": [],
   "source": []
  },
  {
   "cell_type": "markdown",
   "id": "aab85e52",
   "metadata": {},
   "source": [
    "Creamos un `bucle for` que va a iterar por los elementos de lista creada en el bloque anterior. Cada elemento contiene el path a analizar por `glob` para a continuación ser concatenados por la función."
   ]
  },
  {
   "cell_type": "code",
   "execution_count": 5,
   "id": "52a0d64d",
   "metadata": {},
   "outputs": [
    {
     "name": "stdout",
     "output_type": "stream",
     "text": [
      "abu-dhabi1_race-result.xlsx\n",
      "austria11_race-result.xlsx\n",
      "austria21_race-result.xlsx\n",
      "azerbaijan1_race-result.xlsx\n",
      "bahrain1_race-result.xlsx\n",
      "brasil1_race-result.xlsx\n",
      "france1_race-result.xlsx\n",
      "great-britain1_race-result.xlsx\n",
      "hungary1_race-result.xlsx\n",
      "italy11_race-result.xlsx\n",
      "italy21_race-result.xlsx\n",
      "mexico1_race-result.xlsx\n",
      "monaco1_race-result.xlsx\n",
      "netherlands1_race-result.xlsx\n",
      "portugal1_race-result.xlsx\n",
      "qatar1_race-result.xlsx\n",
      "russia1_race-result.xlsx\n",
      "saudi-arabia1_race-result.xlsx\n",
      "spain1_race-result.xlsx\n",
      "turquia1_race-result.xlsx\n",
      "united-states1_race-result.xlsx\n",
      "abu-dhabi2_fastest-laps.xlsx\n",
      "austria12_fastest-laps.xlsx\n",
      "austria22_fastest-laps.xlsx\n",
      "azerbaijan2_fastest-laps.xlsx\n",
      "bahrain2_fastest-laps.xlsx\n",
      "brasil2_fastest-laps.xlsx\n",
      "france2_fastest-laps.xlsx\n",
      "great-britain2_fastest-laps.xlsx\n",
      "hungary2_fastest-laps.xlsx\n",
      "italy12_fastest-laps.xlsx\n",
      "italy22_fastest-laps.xlsx\n",
      "mexico2_fastest-laps.xlsx\n",
      "monaco2_fastest-laps.xlsx\n",
      "netherlands2_fastest-laps.xlsx\n",
      "portugal2_fastest-laps.xlsx\n",
      "qatar2_fastest-laps.xlsx\n",
      "russia2_fastest-laps.xlsx\n",
      "saudi-arabia2_fastest-laps.xlsx\n",
      "spain2_fastest-laps.xlsx\n",
      "turquia2_fastest-laps.xlsx\n",
      "united-states2_fastest-laps.xlsx\n",
      "abu-dhabi3_pit-stop.xlsx\n",
      "austria13_pit-stop.xlsx\n",
      "austria23_pit-stop.xlsx\n",
      "azerbaijan3_pit-stop.xlsx\n",
      "bahrain3_pit-stop.xlsx\n",
      "brasil3_pit-stop.xlsx\n",
      "france3_pit-stop.xlsx\n",
      "great-britain3_pit-stop.xlsx\n",
      "hungary3_pit-stop.xlsx\n",
      "italy13_pit-stop.xlsx\n",
      "italy23_pit-stop.xlsx\n",
      "mexico3_pit-stop.xlsx\n",
      "monaco3_pit-stop.xlsx\n",
      "netherlands3_pit-stop.xlsx\n",
      "portugal3_pit-stop.xlsx\n",
      "qatar3_pit-stop.xlsx\n",
      "russia3_pit-stop.xlsx\n",
      "saudi-arabia3_pit-stop.xlsx\n",
      "spain3_pit-stop.xlsx\n",
      "turquia3_pit-stop.xlsx\n",
      "united-states3_pit-stop.xlsx\n",
      "abu-dhabi4_starting-grid.xlsx\n",
      "austria14_starting-grid.xlsx\n",
      "austria24_starting-grid.xlsx\n",
      "azerbaijan4_starting-grid.xlsx\n",
      "bahrain4_starting-grid.xlsx\n",
      "brasil4_starting-grid.xlsx\n",
      "france4_starting-grid.xlsx\n",
      "great-britain4_starting-grid.xlsx\n",
      "hungary4_starting-grid.xlsx\n",
      "italy14_starting-grid.xlsx\n",
      "italy24_starting-grid.xlsx\n",
      "mexico4_starting-grid.xlsx\n",
      "monaco4_starting-grid.xlsx\n",
      "netherlands4_starting-grid.xlsx\n",
      "portugal4_starting-grid.xlsx\n",
      "qatar4_starting-grid.xlsx\n",
      "russia4_starting-grid.xlsx\n",
      "saudi-arabia4_starting-grid.xlsx\n",
      "spain4_starting-grid.xlsx\n",
      "turquia4_starting-grid.xlsx\n",
      "united-states4_starting-grid.xlsx\n",
      "abu-dhabi5_qualifying.xlsx\n",
      "austria15_qualifying.xlsx\n",
      "austria25_qualifying.xlsx\n",
      "azerbaijan5_qualifying.xlsx\n",
      "bahrain5_qualifying.xlsx\n",
      "brasil5_qualifying.xlsx\n",
      "france5_qualifying.xlsx\n",
      "great-britain5_qualifying.xlsx\n",
      "hungary5_qualifying.xlsx\n",
      "italy15_qualifying.xlsx\n",
      "italy25_qualifying.xlsx\n",
      "mexico5_qualifying.xlsx\n",
      "monaco5_qualifying.xlsx\n",
      "netherlands5_qualifying.xlsx\n",
      "portugal5_qualifying.xlsx\n",
      "qatar5_qualifying.xlsx\n",
      "russia5_qualifying.xlsx\n",
      "saudi-arabia5_qualifying.xlsx\n",
      "spain5_qualifying.xlsx\n",
      "turquia5_qualifying.xlsx\n",
      "united-states5_qualifying.xlsx\n"
     ]
    }
   ],
   "source": [
    "for elemento in group:\n",
    "    salida(elemento)"
   ]
  },
  {
   "cell_type": "markdown",
   "id": "6fe25d88",
   "metadata": {},
   "source": [
    "De esta manera hemos logrado unificar todas las tablas que se ven en el listado anterior en un solo archivo de nombre `F1.xlsx`, el cual como podremos visualizar en la siguiente imagen, hemos remarcado las 5 hojas que corresponden a los siguentes items:\n",
    "- Resultados de la Carrera\n",
    "- Vueltas rapidas\n",
    "- Parada en boxes\n",
    "- Grilla de partida\n",
    "- Calificación\n",
    "\n",
    "También se ha remarcado los datos de un solo evento y una fila seleccionada, donde se verifica que comienzan los datos del siguiente evento de competición.\n",
    "\n",
    "![F1](https://github.com/ispc-programador2022/FFNFF5/blob/main/recursos/f1.jpg?raw=true \"Archivo de Datos Unificado\")\n",
    "\n",
    "De esta manera completamos el trabajo de preparación previa, para luego exportar a Power BI, transformar los datos, armar el modelo de datos y generar un informe a presentar."
   ]
  },
  {
   "cell_type": "code",
   "execution_count": null,
   "id": "e0dc6806",
   "metadata": {},
   "outputs": [],
   "source": []
  }
 ],
 "metadata": {
  "kernelspec": {
   "display_name": "Python 3",
   "language": "python",
   "name": "python3"
  },
  "language_info": {
   "codemirror_mode": {
    "name": "ipython",
    "version": 3
   },
   "file_extension": ".py",
   "mimetype": "text/x-python",
   "name": "python",
   "nbconvert_exporter": "python",
   "pygments_lexer": "ipython3",
   "version": "3.8.8"
  }
 },
 "nbformat": 4,
 "nbformat_minor": 5
}
